{
 "cells": [
  {
   "cell_type": "code",
   "execution_count": 1,
   "id": "305f75c5-2626-4244-ba94-4a55c39c72e2",
   "metadata": {},
   "outputs": [],
   "source": [
    "##Sort, Search & Counting Functions."
   ]
  },
  {
   "cell_type": "code",
   "execution_count": 1,
   "id": "7965ef66-f531-4d0b-951c-d0e7c9894614",
   "metadata": {},
   "outputs": [],
   "source": [
    "import numpy as np"
   ]
  },
  {
   "cell_type": "code",
   "execution_count": 2,
   "id": "43f851f5-0cf6-411d-b4a5-164c412085ba",
   "metadata": {},
   "outputs": [],
   "source": [
    "arr = np.array([4,2,8,5,3,9,12,56])"
   ]
  },
  {
   "cell_type": "code",
   "execution_count": 3,
   "id": "26c74608-5189-493f-84dc-c3d5480184a8",
   "metadata": {},
   "outputs": [
    {
     "data": {
      "text/plain": [
       "array([ 4,  2,  8,  5,  3,  9, 12, 56])"
      ]
     },
     "execution_count": 3,
     "metadata": {},
     "output_type": "execute_result"
    }
   ],
   "source": [
    "arr"
   ]
  },
  {
   "cell_type": "code",
   "execution_count": 4,
   "id": "dc3ed9a3-9b26-4db4-8d72-3820236ce6b6",
   "metadata": {},
   "outputs": [
    {
     "data": {
      "text/plain": [
       "array([ 2,  3,  4,  5,  8,  9, 12, 56])"
      ]
     },
     "execution_count": 4,
     "metadata": {},
     "output_type": "execute_result"
    }
   ],
   "source": [
    "np.sort(arr) "
   ]
  },
  {
   "cell_type": "code",
   "execution_count": 7,
   "id": "c1765731-8205-4930-8eda-6e9d984e1cf9",
   "metadata": {},
   "outputs": [
    {
     "data": {
      "text/plain": [
       "5"
      ]
     },
     "execution_count": 7,
     "metadata": {},
     "output_type": "execute_result"
    }
   ],
   "source": [
    "np.searchsorted(arr,6) #gives you the palce that an element should be added to maintain the order of the array"
   ]
  },
  {
   "cell_type": "code",
   "execution_count": 9,
   "id": "a46d2084-a86f-4bba-8585-6519f1ad6c57",
   "metadata": {},
   "outputs": [],
   "source": [
    "arr1 = np.array([0,324,645,65,6,6,0,0,0,234])"
   ]
  },
  {
   "cell_type": "code",
   "execution_count": 11,
   "id": "b30f2d01-d1a6-411e-8273-c2af6d0e921e",
   "metadata": {},
   "outputs": [
    {
     "data": {
      "text/plain": [
       "6"
      ]
     },
     "execution_count": 11,
     "metadata": {},
     "output_type": "execute_result"
    }
   ],
   "source": [
    "np.count_nonzero(arr1) #Count number of non zero elements"
   ]
  },
  {
   "cell_type": "code",
   "execution_count": 12,
   "id": "0f37b5c2-0148-4689-85f7-58e49c2bb16f",
   "metadata": {},
   "outputs": [
    {
     "data": {
      "text/plain": [
       "(array([1, 2, 3, 4, 5, 9], dtype=int64),)"
      ]
     },
     "execution_count": 12,
     "metadata": {},
     "output_type": "execute_result"
    }
   ],
   "source": [
    "np.where(arr1 > 0 ) #at what all indexes you have data > 0"
   ]
  },
  {
   "cell_type": "code",
   "execution_count": 18,
   "id": "21fe0093-ee28-45dd-8dfc-55ff15fbba87",
   "metadata": {},
   "outputs": [
    {
     "data": {
      "text/plain": [
       "array([324, 645,  65,   6,   6, 234])"
      ]
     },
     "execution_count": 18,
     "metadata": {},
     "output_type": "execute_result"
    }
   ],
   "source": [
    "np.extract(arr1 >2,arr1)"
   ]
  },
  {
   "cell_type": "code",
   "execution_count": 19,
   "id": "be4001b4-056c-4c54-a80b-7f1276631954",
   "metadata": {},
   "outputs": [],
   "source": [
    "#Numpy - Byte Swapping."
   ]
  },
  {
   "cell_type": "code",
   "execution_count": 20,
   "id": "7f4975e8-a41d-44bb-8241-76aab29f78ba",
   "metadata": {},
   "outputs": [
    {
     "data": {
      "text/plain": [
       "array([  0, 324, 645,  65,   6,   6,   0,   0,   0, 234])"
      ]
     },
     "execution_count": 20,
     "metadata": {},
     "output_type": "execute_result"
    }
   ],
   "source": [
    "arr1"
   ]
  },
  {
   "cell_type": "code",
   "execution_count": 24,
   "id": "22abbfac-871e-41b8-95e7-2ff27563f425",
   "metadata": {},
   "outputs": [
    {
     "data": {
      "text/plain": [
       "array([ 67108864,  33554432, 134217728,  83886080,  50331648, 150994944,\n",
       "       201326592, 939524096])"
      ]
     },
     "execution_count": 24,
     "metadata": {},
     "output_type": "execute_result"
    }
   ],
   "source": [
    "arr.byteswap(True)"
   ]
  },
  {
   "cell_type": "code",
   "execution_count": 22,
   "id": "a48c8cef-44e0-4e72-8869-dcd79385796d",
   "metadata": {},
   "outputs": [
    {
     "data": {
      "text/plain": [
       "array([ 4,  2,  8,  5,  3,  9, 12, 56])"
      ]
     },
     "execution_count": 22,
     "metadata": {},
     "output_type": "execute_result"
    }
   ],
   "source": [
    "arr"
   ]
  },
  {
   "cell_type": "code",
   "execution_count": 23,
   "id": "3a57f44d-b2ad-4a5f-b67a-81e0a152f543",
   "metadata": {},
   "outputs": [
    {
     "data": {
      "text/plain": [
       "array([ 4,  2,  8,  5,  3,  9, 12, 56])"
      ]
     },
     "execution_count": 23,
     "metadata": {},
     "output_type": "execute_result"
    }
   ],
   "source": [
    "arr"
   ]
  },
  {
   "cell_type": "code",
   "execution_count": 28,
   "id": "8c64a552-c766-47af-bd7f-03c88cbe923b",
   "metadata": {},
   "outputs": [],
   "source": [
    "#Numpy - Copies &Views."
   ]
  },
  {
   "cell_type": "code",
   "execution_count": 25,
   "id": "91428168-1507-43c5-93c5-dc00570bb8f8",
   "metadata": {},
   "outputs": [
    {
     "data": {
      "text/plain": [
       "array([  0, 324, 645,  65,   6,   6,   0,   0,   0, 234])"
      ]
     },
     "execution_count": 25,
     "metadata": {},
     "output_type": "execute_result"
    }
   ],
   "source": [
    "arr1"
   ]
  },
  {
   "cell_type": "code",
   "execution_count": 31,
   "id": "0b365382-adc0-4ab1-b923-95be0ec53fa6",
   "metadata": {},
   "outputs": [],
   "source": [
    "a = np.copy(arr1)"
   ]
  },
  {
   "cell_type": "code",
   "execution_count": 34,
   "id": "0de5d60a-4a48-41ef-8755-4ebcad1cc01b",
   "metadata": {},
   "outputs": [],
   "source": [
    "b = arr1.view()"
   ]
  },
  {
   "cell_type": "code",
   "execution_count": null,
   "id": "c47a1131-9fa9-42de-8236-e7ecc0517e56",
   "metadata": {},
   "outputs": [],
   "source": [
    "b = arr1"
   ]
  },
  {
   "cell_type": "code",
   "execution_count": 35,
   "id": "0949d238-6935-4833-bc1b-479f231276ef",
   "metadata": {},
   "outputs": [
    {
     "data": {
      "text/plain": [
       "array([  0, 324, 645,  65,   6,   6,   0,   0,   0, 234])"
      ]
     },
     "execution_count": 35,
     "metadata": {},
     "output_type": "execute_result"
    }
   ],
   "source": [
    "b"
   ]
  },
  {
   "cell_type": "code",
   "execution_count": 36,
   "id": "1d96b974-f101-4866-99be-59f9829222a4",
   "metadata": {},
   "outputs": [],
   "source": [
    "b[0] = 234"
   ]
  },
  {
   "cell_type": "code",
   "execution_count": 37,
   "id": "19f26f3a-cc3b-4417-9064-e7104223a25b",
   "metadata": {},
   "outputs": [
    {
     "data": {
      "text/plain": [
       "array([234, 324, 645,  65,   6,   6,   0,   0,   0, 234])"
      ]
     },
     "execution_count": 37,
     "metadata": {},
     "output_type": "execute_result"
    }
   ],
   "source": [
    "b"
   ]
  },
  {
   "cell_type": "code",
   "execution_count": 38,
   "id": "b9a9856e-dbe6-4169-ac7e-3cf2d45705ac",
   "metadata": {},
   "outputs": [
    {
     "data": {
      "text/plain": [
       "array([234, 324, 645,  65,   6,   6,   0,   0,   0, 234])"
      ]
     },
     "execution_count": 38,
     "metadata": {},
     "output_type": "execute_result"
    }
   ],
   "source": [
    "arr1"
   ]
  },
  {
   "cell_type": "code",
   "execution_count": 39,
   "id": "674cfec2-70e7-426e-adbc-4353ac7c50a9",
   "metadata": {},
   "outputs": [],
   "source": [
    "#Numpy - Matrix Library."
   ]
  },
  {
   "cell_type": "code",
   "execution_count": 41,
   "id": "4ec6ae6f-3807-4f52-b8af-16bb82418863",
   "metadata": {},
   "outputs": [],
   "source": [
    "import numpy.matlib as nm"
   ]
  },
  {
   "cell_type": "code",
   "execution_count": 42,
   "id": "29bd602d-4478-40fe-84d3-282401756613",
   "metadata": {},
   "outputs": [
    {
     "data": {
      "text/plain": [
       "matrix([[0., 0., 0., 0., 0.]])"
      ]
     },
     "execution_count": 42,
     "metadata": {},
     "output_type": "execute_result"
    }
   ],
   "source": [
    "nm.zeros(5)"
   ]
  },
  {
   "cell_type": "code",
   "execution_count": 43,
   "id": "ed3548c3-512d-4bd8-a37c-899b2fb54547",
   "metadata": {},
   "outputs": [
    {
     "data": {
      "text/plain": [
       "matrix([[1., 1., 1., 1.],\n",
       "        [1., 1., 1., 1.],\n",
       "        [1., 1., 1., 1.]])"
      ]
     },
     "execution_count": 43,
     "metadata": {},
     "output_type": "execute_result"
    }
   ],
   "source": [
    "nm.ones((3,4))"
   ]
  },
  {
   "cell_type": "code",
   "execution_count": 44,
   "id": "ea58337c-59df-44c6-9682-156026528ad6",
   "metadata": {},
   "outputs": [
    {
     "data": {
      "text/plain": [
       "matrix([[1., 0., 0., 0.],\n",
       "        [0., 1., 0., 0.],\n",
       "        [0., 0., 1., 0.],\n",
       "        [0., 0., 0., 1.]])"
      ]
     },
     "execution_count": 44,
     "metadata": {},
     "output_type": "execute_result"
    }
   ],
   "source": [
    "nm.eye(4)"
   ]
  },
  {
   "cell_type": "code",
   "execution_count": 45,
   "id": "fc4e8999-e589-4263-b884-0f71a7db9d1b",
   "metadata": {},
   "outputs": [],
   "source": [
    "#Numpy - Linear Algebra"
   ]
  },
  {
   "cell_type": "code",
   "execution_count": 48,
   "id": "8dd6964c-3d2d-4d60-9f87-e7d8bb01f493",
   "metadata": {},
   "outputs": [],
   "source": [
    "arr1 = np.random.randint([[2,3] , [4,5]])"
   ]
  },
  {
   "cell_type": "code",
   "execution_count": 49,
   "id": "11a7e188-b6c6-4283-af8e-ba0ebc0d178e",
   "metadata": {},
   "outputs": [],
   "source": [
    "arr2 = np.random.randint([[5,3] , [2,5]])\n"
   ]
  },
  {
   "cell_type": "code",
   "execution_count": 50,
   "id": "d35b9771-953f-4175-b747-bc5f200f7db2",
   "metadata": {},
   "outputs": [
    {
     "data": {
      "text/plain": [
       "array([[0, 1],\n",
       "       [1, 4]])"
      ]
     },
     "execution_count": 50,
     "metadata": {},
     "output_type": "execute_result"
    }
   ],
   "source": [
    "arr1"
   ]
  },
  {
   "cell_type": "code",
   "execution_count": 51,
   "id": "10cf0058-6e68-4f3d-b4a0-0e0e353ad7f0",
   "metadata": {},
   "outputs": [
    {
     "data": {
      "text/plain": [
       "array([[2, 2],\n",
       "       [1, 2]])"
      ]
     },
     "execution_count": 51,
     "metadata": {},
     "output_type": "execute_result"
    }
   ],
   "source": [
    "arr2"
   ]
  },
  {
   "cell_type": "code",
   "execution_count": 52,
   "id": "57cc0881-44a0-46e2-816a-b4d04afc02d5",
   "metadata": {},
   "outputs": [
    {
     "data": {
      "text/plain": [
       "array([[ 1,  2],\n",
       "       [ 6, 10]])"
      ]
     },
     "execution_count": 52,
     "metadata": {},
     "output_type": "execute_result"
    }
   ],
   "source": [
    "np.dot(arr1,arr2)"
   ]
  },
  {
   "cell_type": "code",
   "execution_count": 53,
   "id": "354ee17a-346c-429b-b4c0-0ab02733e846",
   "metadata": {},
   "outputs": [
    {
     "data": {
      "text/plain": [
       "array([[ 1,  2],\n",
       "       [ 6, 10]])"
      ]
     },
     "execution_count": 53,
     "metadata": {},
     "output_type": "execute_result"
    }
   ],
   "source": [
    "arr1@arr2"
   ]
  },
  {
   "cell_type": "code",
   "execution_count": null,
   "id": "a371813f-babe-4531-9039-20a8d230d49e",
   "metadata": {},
   "outputs": [],
   "source": []
  }
 ],
 "metadata": {
  "kernelspec": {
   "display_name": "base",
   "language": "python",
   "name": "python3"
  },
  "language_info": {
   "codemirror_mode": {
    "name": "ipython",
    "version": 3
   },
   "file_extension": ".py",
   "mimetype": "text/x-python",
   "name": "python",
   "nbconvert_exporter": "python",
   "pygments_lexer": "ipython3",
   "version": "3.9.13"
  },
  "vscode": {
   "interpreter": {
    "hash": "ad2bdc8ecc057115af97d19610ffacc2b4e99fae6737bb82f5d7fb13d2f2c186"
   }
  }
 },
 "nbformat": 4,
 "nbformat_minor": 5
}
